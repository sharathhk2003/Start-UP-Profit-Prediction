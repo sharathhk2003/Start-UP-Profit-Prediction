{
 "cells": [
  {
   "cell_type": "code",
   "execution_count": 1,
   "id": "4aa0469b",
   "metadata": {
    "execution": {
     "iopub.execute_input": "2022-01-18T14:03:42.808823Z",
     "iopub.status.busy": "2022-01-18T14:03:42.807032Z",
     "iopub.status.idle": "2022-01-18T14:03:44.910256Z",
     "shell.execute_reply": "2022-01-18T14:03:44.909486Z",
     "shell.execute_reply.started": "2022-01-18T13:51:08.690483Z"
    },
    "papermill": {
     "duration": 2.153472,
     "end_time": "2022-01-18T14:03:44.910420",
     "exception": false,
     "start_time": "2022-01-18T14:03:42.756948",
     "status": "completed"
    },
    "tags": []
   },
   "outputs": [],
   "source": [
    "#basic libraries and visualization\n",
    "import pandas as pd\n",
    "import numpy as np\n",
    "import matplotlib.pyplot as plt\n",
    "import seaborn as sns\n",
    "#statmodels\n",
    "import statsmodels.api as sm\n",
    "from statsmodels.stats.outliers_influence import variance_inflation_factor\n",
    "#sklearn-dataprocessing\n",
    "from sklearn.model_selection import train_test_split, cross_val_score, GridSearchCV\n",
    "from sklearn.feature_selection import f_regression\n",
    "from sklearn.compose import ColumnTransformer\n",
    "from sklearn.preprocessing import PolynomialFeatures, StandardScaler, OneHotEncoder\n",
    "from sklearn.metrics import r2_score, mean_squared_error\n",
    "#sklearn-models\n",
    "from sklearn.linear_model import LinearRegression, Ridge\n",
    "from sklearn.svm import SVR\n",
    "from sklearn.tree import DecisionTreeRegressor\n",
    "from sklearn.ensemble import RandomForestRegressor"
   ]
  },
  {
   "cell_type": "code",
   "execution_count": 2,
   "id": "9d576c3e",
   "metadata": {
    "execution": {
     "iopub.execute_input": "2022-01-18T14:03:45.009309Z",
     "iopub.status.busy": "2022-01-18T14:03:45.008195Z",
     "iopub.status.idle": "2022-01-18T14:03:45.010125Z",
     "shell.execute_reply": "2022-01-18T14:03:45.010598Z",
     "shell.execute_reply.started": "2022-01-18T13:51:08.698959Z"
    },
    "papermill": {
     "duration": 0.052664,
     "end_time": "2022-01-18T14:03:45.010762",
     "exception": false,
     "start_time": "2022-01-18T14:03:44.958098",
     "status": "completed"
    },
    "tags": []
   },
   "outputs": [],
   "source": [
    "import warnings\n",
    "warnings.filterwarnings('ignore')"
   ]
  },
  {
   "cell_type": "code",
   "execution_count": 1,
   "id": "5b44a5bd",
   "metadata": {},
   "outputs": [
    {
     "data": {
      "text/html": [
       "<div>\n",
       "<style scoped>\n",
       "    .dataframe tbody tr th:only-of-type {\n",
       "        vertical-align: middle;\n",
       "    }\n",
       "\n",
       "    .dataframe tbody tr th {\n",
       "        vertical-align: top;\n",
       "    }\n",
       "\n",
       "    .dataframe thead th {\n",
       "        text-align: right;\n",
       "    }\n",
       "</style>\n",
       "<table border=\"1\" class=\"dataframe\">\n",
       "  <thead>\n",
       "    <tr style=\"text-align: right;\">\n",
       "      <th></th>\n",
       "      <th>R&amp;D Spend</th>\n",
       "      <th>Administration</th>\n",
       "      <th>Marketing Spend</th>\n",
       "      <th>Profit</th>\n",
       "    </tr>\n",
       "  </thead>\n",
       "  <tbody>\n",
       "    <tr>\n",
       "      <th>count</th>\n",
       "      <td>50.000000</td>\n",
       "      <td>50.000000</td>\n",
       "      <td>50.000000</td>\n",
       "      <td>50.000000</td>\n",
       "    </tr>\n",
       "    <tr>\n",
       "      <th>mean</th>\n",
       "      <td>73721.615600</td>\n",
       "      <td>121344.639600</td>\n",
       "      <td>211025.097800</td>\n",
       "      <td>112012.639200</td>\n",
       "    </tr>\n",
       "    <tr>\n",
       "      <th>std</th>\n",
       "      <td>45902.256482</td>\n",
       "      <td>28017.802755</td>\n",
       "      <td>122290.310726</td>\n",
       "      <td>40306.180338</td>\n",
       "    </tr>\n",
       "    <tr>\n",
       "      <th>min</th>\n",
       "      <td>0.000000</td>\n",
       "      <td>51283.140000</td>\n",
       "      <td>0.000000</td>\n",
       "      <td>14681.400000</td>\n",
       "    </tr>\n",
       "    <tr>\n",
       "      <th>25%</th>\n",
       "      <td>39936.370000</td>\n",
       "      <td>103730.875000</td>\n",
       "      <td>129300.132500</td>\n",
       "      <td>90138.902500</td>\n",
       "    </tr>\n",
       "    <tr>\n",
       "      <th>50%</th>\n",
       "      <td>73051.080000</td>\n",
       "      <td>122699.795000</td>\n",
       "      <td>212716.240000</td>\n",
       "      <td>107978.190000</td>\n",
       "    </tr>\n",
       "    <tr>\n",
       "      <th>75%</th>\n",
       "      <td>101602.800000</td>\n",
       "      <td>144842.180000</td>\n",
       "      <td>299469.085000</td>\n",
       "      <td>139765.977500</td>\n",
       "    </tr>\n",
       "    <tr>\n",
       "      <th>max</th>\n",
       "      <td>165349.200000</td>\n",
       "      <td>182645.560000</td>\n",
       "      <td>471784.100000</td>\n",
       "      <td>192261.830000</td>\n",
       "    </tr>\n",
       "  </tbody>\n",
       "</table>\n",
       "</div>"
      ],
      "text/plain": [
       "           R&D Spend  Administration  Marketing Spend         Profit\n",
       "count      50.000000       50.000000        50.000000      50.000000\n",
       "mean    73721.615600   121344.639600    211025.097800  112012.639200\n",
       "std     45902.256482    28017.802755    122290.310726   40306.180338\n",
       "min         0.000000    51283.140000         0.000000   14681.400000\n",
       "25%     39936.370000   103730.875000    129300.132500   90138.902500\n",
       "50%     73051.080000   122699.795000    212716.240000  107978.190000\n",
       "75%    101602.800000   144842.180000    299469.085000  139765.977500\n",
       "max    165349.200000   182645.560000    471784.100000  192261.830000"
      ]
     },
     "execution_count": 1,
     "metadata": {},
     "output_type": "execute_result"
    }
   ],
   "source": [
    "import pandas as pd\n",
    "df = pd.read_csv(\"50_Startups.csv\")\n",
    "df.describe()"
   ]
  },
  {
   "cell_type": "code",
   "execution_count": 3,
   "id": "f25e67ab",
   "metadata": {
    "execution": {
     "iopub.execute_input": "2022-01-18T14:03:45.109513Z",
     "iopub.status.busy": "2022-01-18T14:03:45.108444Z",
     "iopub.status.idle": "2022-01-18T14:03:45.114103Z",
     "shell.execute_reply": "2022-01-18T14:03:45.114662Z",
     "shell.execute_reply.started": "2022-01-18T13:51:08.714292Z"
    },
    "papermill": {
     "duration": 0.057539,
     "end_time": "2022-01-18T14:03:45.114828",
     "exception": false,
     "start_time": "2022-01-18T14:03:45.057289",
     "status": "completed"
    },
    "tags": []
   },
   "outputs": [],
   "source": [
    "sns.set_theme(style='darkgrid', palette='Accent')\n",
    "pd.options.display.float_format = '{:,.2f}'.format"
   ]
  },
  {
   "cell_type": "code",
   "execution_count": 4,
   "id": "ead4ba35",
   "metadata": {
    "execution": {
     "iopub.execute_input": "2022-01-18T14:03:45.308344Z",
     "iopub.status.busy": "2022-01-18T14:03:45.307324Z",
     "iopub.status.idle": "2022-01-18T14:03:45.328829Z",
     "shell.execute_reply": "2022-01-18T14:03:45.329421Z",
     "shell.execute_reply.started": "2022-01-18T13:51:08.725453Z"
    },
    "papermill": {
     "duration": 0.072906,
     "end_time": "2022-01-18T14:03:45.329594",
     "exception": false,
     "start_time": "2022-01-18T14:03:45.256688",
     "status": "completed"
    },
    "tags": []
   },
   "outputs": [
    {
     "name": "stdout",
     "output_type": "stream",
     "text": [
      "/kaggle/input/50-startups/Data - 50_Startups_regression.csv\n"
     ]
    }
   ],
   "source": [
    "import os\n",
    "for dirname, _, filenames in os.walk('/kaggle/input'):\n",
    "    for filename in filenames:\n",
    "        print(os.path.join(dirname, filename))"
   ]
  },
  {
   "cell_type": "code",
   "execution_count": 5,
   "id": "4647329c",
   "metadata": {
    "execution": {
     "iopub.execute_input": "2022-01-18T14:03:45.427695Z",
     "iopub.status.busy": "2022-01-18T14:03:45.426707Z",
     "iopub.status.idle": "2022-01-18T14:03:45.456483Z",
     "shell.execute_reply": "2022-01-18T14:03:45.457012Z",
     "shell.execute_reply.started": "2022-01-18T13:51:08.738617Z"
    },
    "papermill": {
     "duration": 0.080366,
     "end_time": "2022-01-18T14:03:45.457178",
     "exception": false,
     "start_time": "2022-01-18T14:03:45.376812",
     "status": "completed"
    },
    "tags": []
   },
   "outputs": [
    {
     "data": {
      "text/html": [
       "<div>\n",
       "<style scoped>\n",
       "    .dataframe tbody tr th:only-of-type {\n",
       "        vertical-align: middle;\n",
       "    }\n",
       "\n",
       "    .dataframe tbody tr th {\n",
       "        vertical-align: top;\n",
       "    }\n",
       "\n",
       "    .dataframe thead th {\n",
       "        text-align: right;\n",
       "    }\n",
       "</style>\n",
       "<table border=\"1\" class=\"dataframe\">\n",
       "  <thead>\n",
       "    <tr style=\"text-align: right;\">\n",
       "      <th></th>\n",
       "      <th>R&amp;D Spend</th>\n",
       "      <th>Administration</th>\n",
       "      <th>Marketing Spend</th>\n",
       "      <th>State</th>\n",
       "      <th>Profit</th>\n",
       "    </tr>\n",
       "  </thead>\n",
       "  <tbody>\n",
       "    <tr>\n",
       "      <th>0</th>\n",
       "      <td>165,349.20</td>\n",
       "      <td>136,897.80</td>\n",
       "      <td>471,784.10</td>\n",
       "      <td>New York</td>\n",
       "      <td>192,261.83</td>\n",
       "    </tr>\n",
       "    <tr>\n",
       "      <th>1</th>\n",
       "      <td>162,597.70</td>\n",
       "      <td>151,377.59</td>\n",
       "      <td>443,898.53</td>\n",
       "      <td>California</td>\n",
       "      <td>191,792.06</td>\n",
       "    </tr>\n",
       "    <tr>\n",
       "      <th>2</th>\n",
       "      <td>153,441.51</td>\n",
       "      <td>101,145.55</td>\n",
       "      <td>407,934.54</td>\n",
       "      <td>Florida</td>\n",
       "      <td>191,050.39</td>\n",
       "    </tr>\n",
       "    <tr>\n",
       "      <th>3</th>\n",
       "      <td>144,372.41</td>\n",
       "      <td>118,671.85</td>\n",
       "      <td>383,199.62</td>\n",
       "      <td>New York</td>\n",
       "      <td>182,901.99</td>\n",
       "    </tr>\n",
       "    <tr>\n",
       "      <th>4</th>\n",
       "      <td>142,107.34</td>\n",
       "      <td>91,391.77</td>\n",
       "      <td>366,168.42</td>\n",
       "      <td>Florida</td>\n",
       "      <td>166,187.94</td>\n",
       "    </tr>\n",
       "  </tbody>\n",
       "</table>\n",
       "</div>"
      ],
      "text/plain": [
       "   R&D Spend  Administration  Marketing Spend       State     Profit\n",
       "0 165,349.20      136,897.80       471,784.10    New York 192,261.83\n",
       "1 162,597.70      151,377.59       443,898.53  California 191,792.06\n",
       "2 153,441.51      101,145.55       407,934.54     Florida 191,050.39\n",
       "3 144,372.41      118,671.85       383,199.62    New York 182,901.99\n",
       "4 142,107.34       91,391.77       366,168.42     Florida 166,187.94"
      ]
     },
     "execution_count": 5,
     "metadata": {},
     "output_type": "execute_result"
    }
   ],
   "source": [
    "startups = pd.read_csv(\"/kaggle/input/50-startups/Data - 50_Startups_regression.csv\")\n",
    "startups.head()"
   ]
  },
  {
   "cell_type": "code",
   "execution_count": 6,
   "id": "a76ca2b6",
   "metadata": {
    "execution": {
     "iopub.execute_input": "2022-01-18T14:03:45.555411Z",
     "iopub.status.busy": "2022-01-18T14:03:45.554421Z",
     "iopub.status.idle": "2022-01-18T14:03:45.559654Z",
     "shell.execute_reply": "2022-01-18T14:03:45.560155Z",
     "shell.execute_reply.started": "2022-01-18T13:51:08.755979Z"
    },
    "papermill": {
     "duration": 0.056365,
     "end_time": "2022-01-18T14:03:45.560323",
     "exception": false,
     "start_time": "2022-01-18T14:03:45.503958",
     "status": "completed"
    },
    "tags": []
   },
   "outputs": [
    {
     "data": {
      "text/plain": [
       "(50, 5)"
      ]
     },
     "execution_count": 6,
     "metadata": {},
     "output_type": "execute_result"
    }
   ],
   "source": [
    "startups.shape"
   ]
  },
  {
   "cell_type": "code",
   "execution_count": 7,
   "id": "d2255944",
   "metadata": {
    "execution": {
     "iopub.execute_input": "2022-01-18T14:03:45.658487Z",
     "iopub.status.busy": "2022-01-18T14:03:45.657518Z",
     "iopub.status.idle": "2022-01-18T14:03:45.679943Z",
     "shell.execute_reply": "2022-01-18T14:03:45.680741Z",
     "shell.execute_reply.started": "2022-01-18T13:51:08.762382Z"
    },
    "papermill": {
     "duration": 0.073538,
     "end_time": "2022-01-18T14:03:45.680976",
     "exception": false,
     "start_time": "2022-01-18T14:03:45.607438",
     "status": "completed"
    },
    "tags": []
   },
   "outputs": [
    {
     "name": "stdout",
     "output_type": "stream",
     "text": [
      "<class 'pandas.core.frame.DataFrame'>\n",
      "RangeIndex: 50 entries, 0 to 49\n",
      "Data columns (total 5 columns):\n",
      " #   Column           Non-Null Count  Dtype  \n",
      "---  ------           --------------  -----  \n",
      " 0   R&D Spend        50 non-null     float64\n",
      " 1   Administration   50 non-null     float64\n",
      " 2   Marketing Spend  50 non-null     float64\n",
      " 3   State            50 non-null     object \n",
      " 4   Profit           50 non-null     float64\n",
      "dtypes: float64(4), object(1)\n",
      "memory usage: 2.1+ KB\n"
     ]
    }
   ],
   "source": [
    "startups.info()"
   ]
  },
  {
   "cell_type": "code",
   "execution_count": 8,
   "id": "2fda56df",
   "metadata": {
    "execution": {
     "iopub.execute_input": "2022-01-18T14:03:45.782514Z",
     "iopub.status.busy": "2022-01-18T14:03:45.780506Z",
     "iopub.status.idle": "2022-01-18T14:03:45.788775Z",
     "shell.execute_reply": "2022-01-18T14:03:45.788258Z",
     "shell.execute_reply.started": "2022-01-18T13:51:08.789062Z"
    },
    "papermill": {
     "duration": 0.059467,
     "end_time": "2022-01-18T14:03:45.788917",
     "exception": false,
     "start_time": "2022-01-18T14:03:45.729450",
     "status": "completed"
    },
    "tags": []
   },
   "outputs": [
    {
     "data": {
      "text/plain": [
       "R&D Spend          0\n",
       "Administration     0\n",
       "Marketing Spend    0\n",
       "State              0\n",
       "Profit             0\n",
       "dtype: int64"
      ]
     },
     "execution_count": 8,
     "metadata": {},
     "output_type": "execute_result"
    }
   ],
   "source": [
    "startups.isnull().sum()"
   ]
  },
  {
   "cell_type": "code",
   "execution_count": 9,
   "id": "2e112e5f",
   "metadata": {
    "execution": {
     "iopub.execute_input": "2022-01-18T14:03:45.887905Z",
     "iopub.status.busy": "2022-01-18T14:03:45.887212Z",
     "iopub.status.idle": "2022-01-18T14:03:45.895713Z",
     "shell.execute_reply": "2022-01-18T14:03:45.895219Z",
     "shell.execute_reply.started": "2022-01-18T13:51:08.797672Z"
    },
    "papermill": {
     "duration": 0.058916,
     "end_time": "2022-01-18T14:03:45.895890",
     "exception": false,
     "start_time": "2022-01-18T14:03:45.836974",
     "status": "completed"
    },
    "tags": []
   },
   "outputs": [
    {
     "data": {
      "text/plain": [
       "False"
      ]
     },
     "execution_count": 9,
     "metadata": {},
     "output_type": "execute_result"
    }
   ],
   "source": [
    "startups.duplicated().any()"
   ]
  },
  {
   "cell_type": "code",
   "execution_count": 10,
   "id": "ed0e4af2",
   "metadata": {
    "execution": {
     "iopub.execute_input": "2022-01-18T14:03:46.001345Z",
     "iopub.status.busy": "2022-01-18T14:03:45.996905Z",
     "iopub.status.idle": "2022-01-18T14:03:46.020776Z",
     "shell.execute_reply": "2022-01-18T14:03:46.020268Z",
     "shell.execute_reply.started": "2022-01-18T13:51:08.824633Z"
    },
    "papermill": {
     "duration": 0.076479,
     "end_time": "2022-01-18T14:03:46.020941",
     "exception": false,
     "start_time": "2022-01-18T14:03:45.944462",
     "status": "completed"
    },
    "tags": []
   },
   "outputs": [
    {
     "data": {
      "text/html": [
       "<div>\n",
       "<style scoped>\n",
       "    .dataframe tbody tr th:only-of-type {\n",
       "        vertical-align: middle;\n",
       "    }\n",
       "\n",
       "    .dataframe tbody tr th {\n",
       "        vertical-align: top;\n",
       "    }\n",
       "\n",
       "    .dataframe thead th {\n",
       "        text-align: right;\n",
       "    }\n",
       "</style>\n",
       "<table border=\"1\" class=\"dataframe\">\n",
       "  <thead>\n",
       "    <tr style=\"text-align: right;\">\n",
       "      <th></th>\n",
       "      <th>R&amp;D Spend</th>\n",
       "      <th>Administration</th>\n",
       "      <th>Marketing Spend</th>\n",
       "      <th>Profit</th>\n",
       "    </tr>\n",
       "  </thead>\n",
       "  <tbody>\n",
       "    <tr>\n",
       "      <th>count</th>\n",
       "      <td>50.00</td>\n",
       "      <td>50.00</td>\n",
       "      <td>50.00</td>\n",
       "      <td>50.00</td>\n",
       "    </tr>\n",
       "    <tr>\n",
       "      <th>mean</th>\n",
       "      <td>73,721.62</td>\n",
       "      <td>121,344.64</td>\n",
       "      <td>211,025.10</td>\n",
       "      <td>112,012.64</td>\n",
       "    </tr>\n",
       "    <tr>\n",
       "      <th>std</th>\n",
       "      <td>45,902.26</td>\n",
       "      <td>28,017.80</td>\n",
       "      <td>122,290.31</td>\n",
       "      <td>40,306.18</td>\n",
       "    </tr>\n",
       "    <tr>\n",
       "      <th>min</th>\n",
       "      <td>0.00</td>\n",
       "      <td>51,283.14</td>\n",
       "      <td>0.00</td>\n",
       "      <td>14,681.40</td>\n",
       "    </tr>\n",
       "    <tr>\n",
       "      <th>25%</th>\n",
       "      <td>39,936.37</td>\n",
       "      <td>103,730.88</td>\n",
       "      <td>129,300.13</td>\n",
       "      <td>90,138.90</td>\n",
       "    </tr>\n",
       "    <tr>\n",
       "      <th>50%</th>\n",
       "      <td>73,051.08</td>\n",
       "      <td>122,699.79</td>\n",
       "      <td>212,716.24</td>\n",
       "      <td>107,978.19</td>\n",
       "    </tr>\n",
       "    <tr>\n",
       "      <th>75%</th>\n",
       "      <td>101,602.80</td>\n",
       "      <td>144,842.18</td>\n",
       "      <td>299,469.08</td>\n",
       "      <td>139,765.98</td>\n",
       "    </tr>\n",
       "    <tr>\n",
       "      <th>max</th>\n",
       "      <td>165,349.20</td>\n",
       "      <td>182,645.56</td>\n",
       "      <td>471,784.10</td>\n",
       "      <td>192,261.83</td>\n",
       "    </tr>\n",
       "  </tbody>\n",
       "</table>\n",
       "</div>"
      ],
      "text/plain": [
       "       R&D Spend  Administration  Marketing Spend     Profit\n",
       "count      50.00           50.00            50.00      50.00\n",
       "mean   73,721.62      121,344.64       211,025.10 112,012.64\n",
       "std    45,902.26       28,017.80       122,290.31  40,306.18\n",
       "min         0.00       51,283.14             0.00  14,681.40\n",
       "25%    39,936.37      103,730.88       129,300.13  90,138.90\n",
       "50%    73,051.08      122,699.79       212,716.24 107,978.19\n",
       "75%   101,602.80      144,842.18       299,469.08 139,765.98\n",
       "max   165,349.20      182,645.56       471,784.10 192,261.83"
      ]
     },
     "execution_count": 10,
     "metadata": {},
     "output_type": "execute_result"
    }
   ],
   "source": [
    "startups.describe()"
   ]
  },
  {
   "cell_type": "markdown",
   "id": "1f67a8bb",
   "metadata": {
    "papermill": {
     "duration": 0.049765,
     "end_time": "2022-01-18T14:03:46.119639",
     "exception": false,
     "start_time": "2022-01-18T14:03:46.069874",
     "status": "completed"
    },
    "tags": []
   },
   "source": [
    "# 2. EDA"
   ]
  },
  {
   "cell_type": "markdown",
   "id": "542266f4",
   "metadata": {
    "papermill": {
     "duration": 0.047661,
     "end_time": "2022-01-18T14:03:46.216062",
     "exception": false,
     "start_time": "2022-01-18T14:03:46.168401",
     "status": "completed"
    },
    "tags": []
   },
   "source": [
    "## Checking for outliers"
   ]
  },
  {
   "cell_type": "code",
   "execution_count": 11,
   "id": "f77b3926",
   "metadata": {
    "execution": {
     "iopub.execute_input": "2022-01-18T14:03:46.317790Z",
     "iopub.status.busy": "2022-01-18T14:03:46.316773Z",
     "iopub.status.idle": "2022-01-18T14:03:46.322058Z",
     "shell.execute_reply": "2022-01-18T14:03:46.322553Z",
     "shell.execute_reply.started": "2022-01-18T13:51:08.848537Z"
    },
    "papermill": {
     "duration": 0.058289,
     "end_time": "2022-01-18T14:03:46.322722",
     "exception": false,
     "start_time": "2022-01-18T14:03:46.264433",
     "status": "completed"
    },
    "tags": []
   },
   "outputs": [
    {
     "data": {
      "text/plain": [
       "array(['R&D Spend', 'Administration', 'Marketing Spend', 'State',\n",
       "       'Profit'], dtype=object)"
      ]
     },
     "execution_count": 11,
     "metadata": {},
     "output_type": "execute_result"
    }
   ],
   "source": [
    "startups.columns.values"
   ]
  },
  {
   "cell_type": "code",
   "execution_count": 12,
   "id": "4d8f190f",
   "metadata": {
    "execution": {
     "iopub.execute_input": "2022-01-18T14:03:46.424805Z",
     "iopub.status.busy": "2022-01-18T14:03:46.423843Z",
     "iopub.status.idle": "2022-01-18T14:03:46.719086Z",
     "shell.execute_reply": "2022-01-18T14:03:46.718559Z",
     "shell.execute_reply.started": "2022-01-18T13:51:08.855164Z"
    },
    "papermill": {
     "duration": 0.347045,
     "end_time": "2022-01-18T14:03:46.719230",
     "exception": false,
     "start_time": "2022-01-18T14:03:46.372185",
     "status": "completed"
    },
    "tags": []
   },
   "outputs": [
    {
     "data": {
      "text/plain": [
       "<AxesSubplot:>"
      ]
     },
     "execution_count": 12,
     "metadata": {},
     "output_type": "execute_result"
    },
    {
     "data": {
      "image/png": "[encoded data removed]",
      "text/plain": [
       "<Figure size 432x288 with 1 Axes>"
      ]
     },
     "metadata": {},
     "output_type": "display_data"
    }
   ],
   "source": [
    "sns.boxplot(data=startups)"
   ]
  },
  {
   "cell_type": "code",
   "execution_count": 13,
   "id": "9541f974",
   "metadata": {
    "execution": {
     "iopub.execute_input": "2022-01-18T14:03:46.835053Z",
     "iopub.status.busy": "2022-01-18T14:03:46.833946Z",
     "iopub.status.idle": "2022-01-18T14:03:46.836025Z",
     "shell.execute_reply": "2022-01-18T14:03:46.836583Z",
     "shell.execute_reply.started": "2022-01-18T13:51:09.137047Z"
    },
    "papermill": {
     "duration": 0.063319,
     "end_time": "2022-01-18T14:03:46.836772",
     "exception": false,
     "start_time": "2022-01-18T14:03:46.773453",
     "status": "completed"
    },
    "tags": []
   },
   "outputs": [],
   "source": [
    "Q3, Q1 = np.percentile(startups[\"Profit\"], [75 ,25])\n",
    "IQR = Q3 - Q1\n",
    "startups = startups[~(startups.Profit< (Q1 - 1.5*IQR))]"
   ]
  },
  {
   "cell_type": "markdown",
   "id": "9414098f",
   "metadata": {
    "papermill": {
     "duration": 0.049545,
     "end_time": "2022-01-18T14:03:46.938904",
     "exception": false,
     "start_time": "2022-01-18T14:03:46.889359",
     "status": "completed"
    },
    "tags": []
   },
   "source": [
    "## Visualising Numerical Variables"
   ]
  },
  {
   "cell_type": "code",
   "execution_count": 14,
   "id": "f2232b98",
   "metadata": {
    "execution": {
     "iopub.execute_input": "2022-01-18T14:03:47.223346Z",
     "iopub.status.busy": "2022-01-18T14:03:47.222281Z",
     "iopub.status.idle": "2022-01-18T14:03:51.314873Z",
     "shell.execute_reply": "2022-01-18T14:03:51.315395Z",
     "shell.execute_reply.started": "2022-01-18T13:51:09.146162Z"
    },
    "papermill": {
     "duration": 4.326069,
     "end_time": "2022-01-18T14:03:51.315568",
     "exception": false,
     "start_time": "2022-01-18T14:03:46.989499",
     "status": "completed"
    },
    "scrolled": true,
    "tags": []
   },
   "outputs": [
    {
     "data": {
      "image/png": "[encoded data removed]",
      "text/plain": [
       "<Figure size 720x720 with 20 Axes>"
      ]
     },
     "metadata": {},
     "output_type": "display_data"
    }
   ],
   "source": [
    "sns.pairplot(startups[['R&D Spend', 'Administration', 'Marketing Spend', 'Profit']], kind=\"reg\", diag_kind=\"kde\")\n",
    "plt.show()"
   ]
  },
  {
   "cell_type": "markdown",
   "id": "9430f42b",
   "metadata": {
    "papermill": {
     "duration": 0.053063,
     "end_time": "2022-01-18T14:03:51.423102",
     "exception": false,
     "start_time": "2022-01-18T14:03:51.370039",
     "status": "completed"
    },
    "tags": []
   },
   "source": [
    "**Insights:**\n",
    "\n",
    "1. We can see normal distributions of numerical variables. \n",
    "\n",
    "2. R&D Spend and Marketing Spend are in linear relation with target variable."
   ]
  },
  {
   "cell_type": "markdown",
   "id": "46bb39b8",
   "metadata": {
    "papermill": {
     "duration": 0.053115,
     "end_time": "2022-01-18T14:03:51.529706",
     "exception": false,
     "start_time": "2022-01-18T14:03:51.476591",
     "status": "completed"
    },
    "tags": []
   },
   "source": [
    "### Profit Distribution"
   ]
  },
  {
   "cell_type": "code",
   "execution_count": 15,
   "id": "311cae7d",
   "metadata": {
    "execution": {
     "iopub.execute_input": "2022-01-18T14:03:51.673457Z",
     "iopub.status.busy": "2022-01-18T14:03:51.657276Z",
     "iopub.status.idle": "2022-01-18T14:03:51.964763Z",
     "shell.execute_reply": "2022-01-18T14:03:51.964262Z",
     "shell.execute_reply.started": "2022-01-18T13:51:13.25719Z"
    },
    "papermill": {
     "duration": 0.381818,
     "end_time": "2022-01-18T14:03:51.964916",
     "exception": false,
     "start_time": "2022-01-18T14:03:51.583098",
     "status": "completed"
    },
    "tags": []
   },
   "outputs": [
    {
     "data": {
      "image/png": "[encoded data removed]",
      "text/plain": [
       "<Figure size 432x288 with 1 Axes>"
      ]
     },
     "metadata": {},
     "output_type": "display_data"
    }
   ],
   "source": [
    "sns.distplot(startups[\"Profit\"], bins=30)\n",
    "plt.show()"
   ]
  },
  {
   "cell_type": "markdown",
   "id": "f64f3fff",
   "metadata": {
    "papermill": {
     "duration": 0.053841,
     "end_time": "2022-01-18T14:03:52.073633",
     "exception": false,
     "start_time": "2022-01-18T14:03:52.019792",
     "status": "completed"
    },
    "tags": []
   },
   "source": [
    "### R&D Spend vs. Profit Correlation"
   ]
  },
  {
   "cell_type": "code",
   "execution_count": 16,
   "id": "313d2dbb",
   "metadata": {
    "execution": {
     "iopub.execute_input": "2022-01-18T14:03:52.219656Z",
     "iopub.status.busy": "2022-01-18T14:03:52.207254Z",
     "iopub.status.idle": "2022-01-18T14:03:52.921603Z",
     "shell.execute_reply": "2022-01-18T14:03:52.922154Z",
     "shell.execute_reply.started": "2022-01-18T13:51:13.571003Z"
    },
    "papermill": {
     "duration": 0.793054,
     "end_time": "2022-01-18T14:03:52.922331",
     "exception": false,
     "start_time": "2022-01-18T14:03:52.129277",
     "status": "completed"
    },
    "tags": []
   },
   "outputs": [
    {
     "data": {
      "image/png": "[encoded data removed]",
      "text/plain": [
       "<Figure size 432x432 with 3 Axes>"
      ]
     },
     "metadata": {},
     "output_type": "display_data"
    }
   ],
   "source": [
    "sns.jointplot(x=startups[\"Profit\"], y=startups[\"R&D Spend\"], kind=\"reg\")\n",
    "plt.show()"
   ]
  },
  {
   "cell_type": "markdown",
   "id": "ca7e18fe",
   "metadata": {
    "papermill": {
     "duration": 0.056575,
     "end_time": "2022-01-18T14:03:53.035080",
     "exception": false,
     "start_time": "2022-01-18T14:03:52.978505",
     "status": "completed"
    },
    "tags": []
   },
   "source": [
    "## Visualising Categorical Variables"
   ]
  },
  {
   "cell_type": "code",
   "execution_count": 17,
   "id": "2cbc8728",
   "metadata": {
    "execution": {
     "iopub.execute_input": "2022-01-18T14:03:53.153118Z",
     "iopub.status.busy": "2022-01-18T14:03:53.152423Z",
     "iopub.status.idle": "2022-01-18T14:03:54.390458Z",
     "shell.execute_reply": "2022-01-18T14:03:54.391045Z",
     "shell.execute_reply.started": "2022-01-18T13:51:14.28773Z"
    },
    "papermill": {
     "duration": 1.300486,
     "end_time": "2022-01-18T14:03:54.391223",
     "exception": false,
     "start_time": "2022-01-18T14:03:53.090737",
     "status": "completed"
    },
    "tags": []
   },
   "outputs": [
    {
     "data": {
      "image/png": "[encoded data removed]",
      "text/plain": [
       "<Figure size 756x360 with 3 Axes>"
      ]
     },
     "metadata": {},
     "output_type": "display_data"
    }
   ],
   "source": [
    "g=sns.FacetGrid(data=startups, col=\"State\", height=5, aspect=0.7)\n",
    "g.map_dataframe(sns.barplot, palette=\"Accent\")\n",
    "g.set_xticklabels(rotation=45)\n",
    "plt.show()\n"
   ]
  },
  {
   "cell_type": "markdown",
   "id": "b1266e9c",
   "metadata": {
    "papermill": {
     "duration": 0.056935,
     "end_time": "2022-01-18T14:03:54.505626",
     "exception": false,
     "start_time": "2022-01-18T14:03:54.448691",
     "status": "completed"
    },
    "tags": []
   },
   "source": [
    "**Insights:**\n",
    "1. Profits and Marketing Spend are higher at Florida than other states.\n",
    "2. R&D Spend and Administration are same for all of the states."
   ]
  },
  {
   "cell_type": "markdown",
   "id": "40de983c",
   "metadata": {
    "papermill": {
     "duration": 0.057863,
     "end_time": "2022-01-18T14:03:54.620145",
     "exception": false,
     "start_time": "2022-01-18T14:03:54.562282",
     "status": "completed"
    },
    "tags": []
   },
   "source": [
    "#  3. Data Preparation"
   ]
  },
  {
   "cell_type": "code",
   "execution_count": 18,
   "id": "771f649c",
   "metadata": {
    "execution": {
     "iopub.execute_input": "2022-01-18T14:03:54.737485Z",
     "iopub.status.busy": "2022-01-18T14:03:54.736814Z",
     "iopub.status.idle": "2022-01-18T14:03:54.740189Z",
     "shell.execute_reply": "2022-01-18T14:03:54.740726Z",
     "shell.execute_reply.started": "2022-01-18T13:51:15.394485Z"
    },
    "papermill": {
     "duration": 0.063605,
     "end_time": "2022-01-18T14:03:54.740900",
     "exception": false,
     "start_time": "2022-01-18T14:03:54.677295",
     "status": "completed"
    },
    "tags": []
   },
   "outputs": [],
   "source": [
    "startups_prepared = startups.copy()"
   ]
  },
  {
   "cell_type": "markdown",
   "id": "114f192f",
   "metadata": {
    "papermill": {
     "duration": 0.057638,
     "end_time": "2022-01-18T14:03:54.855601",
     "exception": false,
     "start_time": "2022-01-18T14:03:54.797963",
     "status": "completed"
    },
    "tags": []
   },
   "source": [
    "## Checking for multicollinearity"
   ]
  },
  {
   "cell_type": "code",
   "execution_count": 19,
   "id": "23fffb8a",
   "metadata": {
    "execution": {
     "iopub.execute_input": "2022-01-18T14:03:54.974118Z",
     "iopub.status.busy": "2022-01-18T14:03:54.973439Z",
     "iopub.status.idle": "2022-01-18T14:03:54.992529Z",
     "shell.execute_reply": "2022-01-18T14:03:54.991878Z",
     "shell.execute_reply.started": "2022-01-18T13:51:15.40011Z"
    },
    "papermill": {
     "duration": 0.079824,
     "end_time": "2022-01-18T14:03:54.992670",
     "exception": false,
     "start_time": "2022-01-18T14:03:54.912846",
     "status": "completed"
    },
    "tags": []
   },
   "outputs": [
    {
     "data": {
      "text/html": [
       "<div>\n",
       "<style scoped>\n",
       "    .dataframe tbody tr th:only-of-type {\n",
       "        vertical-align: middle;\n",
       "    }\n",
       "\n",
       "    .dataframe tbody tr th {\n",
       "        vertical-align: top;\n",
       "    }\n",
       "\n",
       "    .dataframe thead th {\n",
       "        text-align: right;\n",
       "    }\n",
       "</style>\n",
       "<table border=\"1\" class=\"dataframe\">\n",
       "  <thead>\n",
       "    <tr style=\"text-align: right;\">\n",
       "      <th></th>\n",
       "      <th>Features</th>\n",
       "      <th>VIF</th>\n",
       "    </tr>\n",
       "  </thead>\n",
       "  <tbody>\n",
       "    <tr>\n",
       "      <th>0</th>\n",
       "      <td>R&amp;D Spend</td>\n",
       "      <td>8.60</td>\n",
       "    </tr>\n",
       "    <tr>\n",
       "      <th>2</th>\n",
       "      <td>Marketing Spend</td>\n",
       "      <td>7.59</td>\n",
       "    </tr>\n",
       "    <tr>\n",
       "      <th>1</th>\n",
       "      <td>Administration</td>\n",
       "      <td>4.22</td>\n",
       "    </tr>\n",
       "  </tbody>\n",
       "</table>\n",
       "</div>"
      ],
      "text/plain": [
       "          Features  VIF\n",
       "0        R&D Spend 8.60\n",
       "2  Marketing Spend 7.59\n",
       "1   Administration 4.22"
      ]
     },
     "execution_count": 19,
     "metadata": {},
     "output_type": "execute_result"
    }
   ],
   "source": [
    "numerical = startups_prepared.drop(columns=[\"State\", \"Profit\"])\n",
    "vif = pd.DataFrame()\n",
    "vif[\"Features\"] = numerical.columns\n",
    "vif[\"VIF\"] = [variance_inflation_factor(numerical.values, i) for i in range(numerical.shape[1])]\n",
    "vif[\"VIF\"] = round(vif[\"VIF\"], 2)\n",
    "vif = vif.sort_values(by = \"VIF\", ascending = False)\n",
    "vif"
   ]
  },
  {
   "cell_type": "markdown",
   "id": "99152c0d",
   "metadata": {
    "papermill": {
     "duration": 0.056864,
     "end_time": "2022-01-18T14:03:55.108154",
     "exception": false,
     "start_time": "2022-01-18T14:03:55.051290",
     "status": "completed"
    },
    "tags": []
   },
   "source": [
    "**Insights:**\n",
    "1. VIF scores are higher for R&D and Marketing Spend.\n",
    "2. Since Administration is not so correlated with Profit as other variables, we will consider dropping this variable, which will drive VIF factor down.\n"
   ]
  },
  {
   "cell_type": "markdown",
   "id": "63f0771d",
   "metadata": {
    "execution": {
     "iopub.execute_input": "2021-05-19T13:22:30.191571Z",
     "iopub.status.busy": "2021-05-19T13:22:30.190765Z",
     "iopub.status.idle": "2021-05-19T13:22:30.194845Z",
     "shell.execute_reply": "2021-05-19T13:22:30.194293Z"
    },
    "papermill": {
     "duration": 0.057821,
     "end_time": "2022-01-18T14:03:55.224305",
     "exception": false,
     "start_time": "2022-01-18T14:03:55.166484",
     "status": "completed"
    },
    "tags": []
   },
   "source": [
    "## Creating dummy variables"
   ]
  },
  {
   "cell_type": "code",
   "execution_count": 20,
   "id": "97bcbdc4",
   "metadata": {
    "execution": {
     "iopub.execute_input": "2022-01-18T14:03:55.349633Z",
     "iopub.status.busy": "2022-01-18T14:03:55.348900Z",
     "iopub.status.idle": "2022-01-18T14:03:55.351926Z",
     "shell.execute_reply": "2022-01-18T14:03:55.351313Z",
     "shell.execute_reply.started": "2022-01-18T13:51:15.428514Z"
    },
    "papermill": {
     "duration": 0.070416,
     "end_time": "2022-01-18T14:03:55.352118",
     "exception": false,
     "start_time": "2022-01-18T14:03:55.281702",
     "status": "completed"
    },
    "tags": []
   },
   "outputs": [],
   "source": [
    "startups_prepared = pd.get_dummies(startups_prepared, drop_first=True)\n",
    "startups_prepared.rename(columns={\"R&D Spend\":\"R&D\", \"Marketing Spend\":\"Marketing\", \n",
    "                         \"State_Florida\":\"Florida\", \"State_New York\":\"New York\"}, inplace=True)"
   ]
  },
  {
   "cell_type": "code",
   "execution_count": 21,
   "id": "725ab8fa",
   "metadata": {
    "execution": {
     "iopub.execute_input": "2022-01-18T14:03:55.479229Z",
     "iopub.status.busy": "2022-01-18T14:03:55.478450Z",
     "iopub.status.idle": "2022-01-18T14:03:55.482675Z",
     "shell.execute_reply": "2022-01-18T14:03:55.482139Z",
     "shell.execute_reply.started": "2022-01-18T13:51:15.44038Z"
    },
    "papermill": {
     "duration": 0.071765,
     "end_time": "2022-01-18T14:03:55.482825",
     "exception": false,
     "start_time": "2022-01-18T14:03:55.411060",
     "status": "completed"
    },
    "tags": []
   },
   "outputs": [
    {
     "data": {
      "text/html": [
       "<div>\n",
       "<style scoped>\n",
       "    .dataframe tbody tr th:only-of-type {\n",
       "        vertical-align: middle;\n",
       "    }\n",
       "\n",
       "    .dataframe tbody tr th {\n",
       "        vertical-align: top;\n",
       "    }\n",
       "\n",
       "    .dataframe thead th {\n",
       "        text-align: right;\n",
       "    }\n",
       "</style>\n",
       "<table border=\"1\" class=\"dataframe\">\n",
       "  <thead>\n",
       "    <tr style=\"text-align: right;\">\n",
       "      <th></th>\n",
       "      <th>R&amp;D</th>\n",
       "      <th>Administration</th>\n",
       "      <th>Marketing</th>\n",
       "      <th>Profit</th>\n",
       "      <th>Florida</th>\n",
       "      <th>New York</th>\n",
       "    </tr>\n",
       "  </thead>\n",
       "  <tbody>\n",
       "    <tr>\n",
       "      <th>0</th>\n",
       "      <td>165,349.20</td>\n",
       "      <td>136,897.80</td>\n",
       "      <td>471,784.10</td>\n",
       "      <td>192,261.83</td>\n",
       "      <td>0</td>\n",
       "      <td>1</td>\n",
       "    </tr>\n",
       "    <tr>\n",
       "      <th>1</th>\n",
       "      <td>162,597.70</td>\n",
       "      <td>151,377.59</td>\n",
       "      <td>443,898.53</td>\n",
       "      <td>191,792.06</td>\n",
       "      <td>0</td>\n",
       "      <td>0</td>\n",
       "    </tr>\n",
       "    <tr>\n",
       "      <th>2</th>\n",
       "      <td>153,441.51</td>\n",
       "      <td>101,145.55</td>\n",
       "      <td>407,934.54</td>\n",
       "      <td>191,050.39</td>\n",
       "      <td>1</td>\n",
       "      <td>0</td>\n",
       "    </tr>\n",
       "    <tr>\n",
       "      <th>3</th>\n",
       "      <td>144,372.41</td>\n",
       "      <td>118,671.85</td>\n",
       "      <td>383,199.62</td>\n",
       "      <td>182,901.99</td>\n",
       "      <td>0</td>\n",
       "      <td>1</td>\n",
       "    </tr>\n",
       "    <tr>\n",
       "      <th>4</th>\n",
       "      <td>142,107.34</td>\n",
       "      <td>91,391.77</td>\n",
       "      <td>366,168.42</td>\n",
       "      <td>166,187.94</td>\n",
       "      <td>1</td>\n",
       "      <td>0</td>\n",
       "    </tr>\n",
       "  </tbody>\n",
       "</table>\n",
       "</div>"
      ],
      "text/plain": [
       "         R&D  Administration  Marketing     Profit  Florida  New York\n",
       "0 165,349.20      136,897.80 471,784.10 192,261.83        0         1\n",
       "1 162,597.70      151,377.59 443,898.53 191,792.06        0         0\n",
       "2 153,441.51      101,145.55 407,934.54 191,050.39        1         0\n",
       "3 144,372.41      118,671.85 383,199.62 182,901.99        0         1\n",
       "4 142,107.34       91,391.77 366,168.42 166,187.94        1         0"
      ]
     },
     "execution_count": 21,
     "metadata": {},
     "output_type": "execute_result"
    }
   ],
   "source": [
    "startups_prepared.head()"
   ]
  },
  {
   "cell_type": "markdown",
   "id": "06a8013b",
   "metadata": {
    "papermill": {
     "duration": 0.05759,
     "end_time": "2022-01-18T14:03:55.598205",
     "exception": false,
     "start_time": "2022-01-18T14:03:55.540615",
     "status": "completed"
    },
    "tags": []
   },
   "source": [
    "## Defining input and target variables"
   ]
  },
  {
   "cell_type": "code",
   "execution_count": 22,
   "id": "079ac3d5",
   "metadata": {
    "execution": {
     "iopub.execute_input": "2022-01-18T14:03:55.717833Z",
     "iopub.status.busy": "2022-01-18T14:03:55.717115Z",
     "iopub.status.idle": "2022-01-18T14:03:55.722059Z",
     "shell.execute_reply": "2022-01-18T14:03:55.722537Z",
     "shell.execute_reply.started": "2022-01-18T13:51:15.45676Z"
    },
    "papermill": {
     "duration": 0.066972,
     "end_time": "2022-01-18T14:03:55.722710",
     "exception": false,
     "start_time": "2022-01-18T14:03:55.655738",
     "status": "completed"
    },
    "tags": []
   },
   "outputs": [],
   "source": [
    "X = startups_prepared.drop(columns=\"Profit\")\n",
    "y = startups_prepared.Profit"
   ]
  },
  {
   "cell_type": "markdown",
   "id": "eff34fdf",
   "metadata": {
    "papermill": {
     "duration": 0.057465,
     "end_time": "2022-01-18T14:03:55.841786",
     "exception": false,
     "start_time": "2022-01-18T14:03:55.784321",
     "status": "completed"
    },
    "tags": []
   },
   "source": [
    "## Feature selection"
   ]
  },
  {
   "cell_type": "code",
   "execution_count": 23,
   "id": "f4835a3f",
   "metadata": {
    "execution": {
     "iopub.execute_input": "2022-01-18T14:03:55.975917Z",
     "iopub.status.busy": "2022-01-18T14:03:55.965064Z",
     "iopub.status.idle": "2022-01-18T14:03:55.978679Z",
     "shell.execute_reply": "2022-01-18T14:03:55.979182Z",
     "shell.execute_reply.started": "2022-01-18T13:51:15.468591Z"
    },
    "papermill": {
     "duration": 0.078934,
     "end_time": "2022-01-18T14:03:55.979359",
     "exception": false,
     "start_time": "2022-01-18T14:03:55.900425",
     "status": "completed"
    },
    "tags": []
   },
   "outputs": [
    {
     "data": {
      "text/html": [
       "<div>\n",
       "<style scoped>\n",
       "    .dataframe tbody tr th:only-of-type {\n",
       "        vertical-align: middle;\n",
       "    }\n",
       "\n",
       "    .dataframe tbody tr th {\n",
       "        vertical-align: top;\n",
       "    }\n",
       "\n",
       "    .dataframe thead tr th {\n",
       "        text-align: left;\n",
       "    }\n",
       "</style>\n",
       "<table border=\"1\" class=\"dataframe\">\n",
       "  <thead>\n",
       "    <tr>\n",
       "      <th></th>\n",
       "      <th>F_statistic</th>\n",
       "      <th>p_value</th>\n",
       "    </tr>\n",
       "  </thead>\n",
       "  <tbody>\n",
       "    <tr>\n",
       "      <th>R&amp;D</th>\n",
       "      <td>1,054.72</td>\n",
       "      <td>0.00</td>\n",
       "    </tr>\n",
       "    <tr>\n",
       "      <th>Administration</th>\n",
       "      <td>2.08</td>\n",
       "      <td>0.16</td>\n",
       "    </tr>\n",
       "    <tr>\n",
       "      <th>Marketing</th>\n",
       "      <td>56.66</td>\n",
       "      <td>0.00</td>\n",
       "    </tr>\n",
       "  </tbody>\n",
       "</table>\n",
       "</div>"
      ],
      "text/plain": [
       "               F_statistic p_value\n",
       "R&D               1,054.72    0.00\n",
       "Administration        2.08    0.16\n",
       "Marketing            56.66    0.00"
      ]
     },
     "execution_count": 23,
     "metadata": {},
     "output_type": "execute_result"
    }
   ],
   "source": [
    "data = f_regression(X[[\"R&D\", \"Administration\", \"Marketing\"]], y)\n",
    "f_df = pd.DataFrame(data, index=[[\"F_statistic\", \"p_value\"]], columns=X[[\"R&D\", \"Administration\", \"Marketing\"]].columns).T\n",
    "f_df"
   ]
  },
  {
   "cell_type": "markdown",
   "id": "230cba6e",
   "metadata": {
    "papermill": {
     "duration": 0.058455,
     "end_time": "2022-01-18T14:03:56.096894",
     "exception": false,
     "start_time": "2022-01-18T14:03:56.038439",
     "status": "completed"
    },
    "tags": []
   },
   "source": [
    "**Insights:**\n",
    "1. R&D and Marketing has nearly 0 p-value what implies statistical significance.\n",
    "2. On the other hand Administration seems to have no effect in predicting the Profit, as we previously seen from correlation as well.\n",
    "3. We are going to drop Administration column as it has no statistical significance in our model."
   ]
  },
  {
   "cell_type": "code",
   "execution_count": 24,
   "id": "42683da0",
   "metadata": {
    "execution": {
     "iopub.execute_input": "2022-01-18T14:03:56.224962Z",
     "iopub.status.busy": "2022-01-18T14:03:56.223955Z",
     "iopub.status.idle": "2022-01-18T14:03:56.226655Z",
     "shell.execute_reply": "2022-01-18T14:03:56.227239Z",
     "shell.execute_reply.started": "2022-01-18T13:51:15.488835Z"
    },
    "papermill": {
     "duration": 0.069519,
     "end_time": "2022-01-18T14:03:56.227418",
     "exception": false,
     "start_time": "2022-01-18T14:03:56.157899",
     "status": "completed"
    },
    "tags": []
   },
   "outputs": [],
   "source": [
    "X = X.drop(columns=\"Administration\")"
   ]
  },
  {
   "cell_type": "markdown",
   "id": "83b4ff68",
   "metadata": {
    "papermill": {
     "duration": 0.058065,
     "end_time": "2022-01-18T14:03:56.343673",
     "exception": false,
     "start_time": "2022-01-18T14:03:56.285608",
     "status": "completed"
    },
    "tags": []
   },
   "source": [
    "## Splitting the Data into Training and Testing Sets"
   ]
  },
  {
   "cell_type": "code",
   "execution_count": 25,
   "id": "67392527",
   "metadata": {
    "execution": {
     "iopub.execute_input": "2022-01-18T14:03:56.471808Z",
     "iopub.status.busy": "2022-01-18T14:03:56.471159Z",
     "iopub.status.idle": "2022-01-18T14:03:56.473382Z",
     "shell.execute_reply": "2022-01-18T14:03:56.473907Z",
     "shell.execute_reply.started": "2022-01-18T13:51:15.500099Z"
    },
    "papermill": {
     "duration": 0.071599,
     "end_time": "2022-01-18T14:03:56.474085",
     "exception": false,
     "start_time": "2022-01-18T14:03:56.402486",
     "status": "completed"
    },
    "tags": []
   },
   "outputs": [],
   "source": [
    "X_train, X_test, y_train, y_test = train_test_split(X, y, test_size=0.33, random_state=6)"
   ]
  },
  {
   "cell_type": "code",
   "execution_count": 26,
   "id": "2fbd60d1",
   "metadata": {
    "execution": {
     "iopub.execute_input": "2022-01-18T14:03:56.596528Z",
     "iopub.status.busy": "2022-01-18T14:03:56.595867Z",
     "iopub.status.idle": "2022-01-18T14:03:56.602298Z",
     "shell.execute_reply": "2022-01-18T14:03:56.601573Z",
     "shell.execute_reply.started": "2022-01-18T13:51:15.515223Z"
    },
    "papermill": {
     "duration": 0.069816,
     "end_time": "2022-01-18T14:03:56.602496",
     "exception": false,
     "start_time": "2022-01-18T14:03:56.532680",
     "status": "completed"
    },
    "tags": []
   },
   "outputs": [
    {
     "name": "stdout",
     "output_type": "stream",
     "text": [
      "Train Florida: 0.3125\n",
      "Test Florida: 0.35294117647058826\n",
      "Train Marketing: 235405.88625\n",
      "Test Marketing: 174887.8511764706\n"
     ]
    }
   ],
   "source": [
    "#Checking if the split has approximately equal distributions of values\n",
    "print(f\"Train Florida: {X_train['Florida'].mean()}\")\n",
    "print(f\"Test Florida: {X_test['Florida'].mean()}\")\n",
    "print(f\"Train Marketing: {X_train['Marketing'].mean()}\")\n",
    "print(f\"Test Marketing: {X_test['Marketing'].mean()}\")"
   ]
  },
  {
   "cell_type": "markdown",
   "id": "162b5193",
   "metadata": {
    "papermill": {
     "duration": 0.057751,
     "end_time": "2022-01-18T14:03:56.719339",
     "exception": false,
     "start_time": "2022-01-18T14:03:56.661588",
     "status": "completed"
    },
    "tags": []
   },
   "source": [
    "## Scaling the Features"
   ]
  },
  {
   "cell_type": "code",
   "execution_count": 27,
   "id": "773cda20",
   "metadata": {
    "execution": {
     "iopub.execute_input": "2022-01-18T14:03:56.848444Z",
     "iopub.status.busy": "2022-01-18T14:03:56.847434Z",
     "iopub.status.idle": "2022-01-18T14:03:56.849968Z",
     "shell.execute_reply": "2022-01-18T14:03:56.849475Z",
     "shell.execute_reply.started": "2022-01-18T13:51:15.527515Z"
    },
    "papermill": {
     "duration": 0.072588,
     "end_time": "2022-01-18T14:03:56.850141",
     "exception": false,
     "start_time": "2022-01-18T14:03:56.777553",
     "status": "completed"
    },
    "tags": []
   },
   "outputs": [],
   "source": [
    "#scaling inputs\n",
    "sc_x = StandardScaler()\n",
    "X_train = sc_x.fit_transform(X_train)\n",
    "X_test = sc_x.transform(X_test)\n",
    "#scaling target variable\n",
    "sc_y = StandardScaler()\n",
    "y_train = sc_y.fit_transform(y_train.values.reshape(-1, 1))\n",
    "y_test = sc_y.transform(y_test.values.reshape(-1, 1))"
   ]
  },
  {
   "cell_type": "code",
   "execution_count": 28,
   "id": "ba0b9044",
   "metadata": {
    "execution": {
     "iopub.execute_input": "2022-01-18T14:03:56.972298Z",
     "iopub.status.busy": "2022-01-18T14:03:56.971642Z",
     "iopub.status.idle": "2022-01-18T14:03:56.976021Z",
     "shell.execute_reply": "2022-01-18T14:03:56.975499Z",
     "shell.execute_reply.started": "2022-01-18T13:51:15.543278Z"
    },
    "papermill": {
     "duration": 0.066703,
     "end_time": "2022-01-18T14:03:56.976163",
     "exception": false,
     "start_time": "2022-01-18T14:03:56.909460",
     "status": "completed"
    },
    "tags": []
   },
   "outputs": [],
   "source": [
    "y_train = y_train.reshape(32)\n",
    "y_test = y_test.reshape(17)"
   ]
  },
  {
   "cell_type": "markdown",
   "id": "bb7f9043",
   "metadata": {
    "papermill": {
     "duration": 0.058747,
     "end_time": "2022-01-18T14:03:57.094472",
     "exception": false,
     "start_time": "2022-01-18T14:03:57.035725",
     "status": "completed"
    },
    "tags": []
   },
   "source": [
    "# 4. Model Selection and Evaluation"
   ]
  },
  {
   "cell_type": "markdown",
   "id": "3671f1d4",
   "metadata": {
    "papermill": {
     "duration": 0.059498,
     "end_time": "2022-01-18T14:03:57.212706",
     "exception": false,
     "start_time": "2022-01-18T14:03:57.153208",
     "status": "completed"
    },
    "tags": []
   },
   "source": [
    "## Multiple Linear regression"
   ]
  },
  {
   "cell_type": "code",
   "execution_count": 29,
   "id": "2f169a8f",
   "metadata": {
    "execution": {
     "iopub.execute_input": "2022-01-18T14:03:57.342679Z",
     "iopub.status.busy": "2022-01-18T14:03:57.341965Z",
     "iopub.status.idle": "2022-01-18T14:03:57.345352Z",
     "shell.execute_reply": "2022-01-18T14:03:57.344709Z",
     "shell.execute_reply.started": "2022-01-18T13:51:15.549825Z"
    },
    "papermill": {
     "duration": 0.07428,
     "end_time": "2022-01-18T14:03:57.345489",
     "exception": false,
     "start_time": "2022-01-18T14:03:57.271209",
     "status": "completed"
    },
    "tags": []
   },
   "outputs": [
    {
     "data": {
      "text/plain": [
       "[0.9484473292910413, 0.8741655229833125, 0.6029774988290408]"
      ]
     },
     "execution_count": 29,
     "metadata": {},
     "output_type": "execute_result"
    }
   ],
   "source": [
    "Rsqr_test = []\n",
    "order = range(1,4)\n",
    "for n in order:\n",
    "    pr = PolynomialFeatures(degree=n)\n",
    "    X_train_poly = pr.fit_transform(X_train)\n",
    "    X_test_poly = pr.fit_transform(X_test)\n",
    "    lr = LinearRegression()\n",
    "    lr.fit(X_train_poly, y_train)\n",
    "    Rsqr_test.append(lr.score(X_test_poly, y_test))\n",
    "Rsqr_test"
   ]
  },
  {
   "cell_type": "code",
   "execution_count": 30,
   "id": "21bb82a6",
   "metadata": {
    "execution": {
     "iopub.execute_input": "2022-01-18T14:03:57.466867Z",
     "iopub.status.busy": "2022-01-18T14:03:57.466217Z",
     "iopub.status.idle": "2022-01-18T14:03:57.722110Z",
     "shell.execute_reply": "2022-01-18T14:03:57.721475Z",
     "shell.execute_reply.started": "2022-01-18T13:51:15.568779Z"
    },
    "papermill": {
     "duration": 0.317664,
     "end_time": "2022-01-18T14:03:57.722248",
     "exception": false,
     "start_time": "2022-01-18T14:03:57.404584",
     "status": "completed"
    },
    "tags": []
   },
   "outputs": [
    {
     "data": {
      "image/png": "[encoded data removed]",
      "text/plain": [
       "<Figure size 432x288 with 1 Axes>"
      ]
     },
     "metadata": {},
     "output_type": "display_data"
    }
   ],
   "source": [
    "plt.plot(Rsqr_test)\n",
    "plt.show()"
   ]
  },
  {
   "cell_type": "markdown",
   "id": "ad6cb394",
   "metadata": {
    "papermill": {
     "duration": 0.059103,
     "end_time": "2022-01-18T14:03:57.841262",
     "exception": false,
     "start_time": "2022-01-18T14:03:57.782159",
     "status": "completed"
    },
    "tags": []
   },
   "source": [
    "## Support Vector regression"
   ]
  },
  {
   "cell_type": "code",
   "execution_count": 31,
   "id": "051f94b3",
   "metadata": {
    "execution": {
     "iopub.execute_input": "2022-01-18T14:03:57.965167Z",
     "iopub.status.busy": "2022-01-18T14:03:57.963161Z",
     "iopub.status.idle": "2022-01-18T14:03:57.970022Z",
     "shell.execute_reply": "2022-01-18T14:03:57.970534Z",
     "shell.execute_reply.started": "2022-01-18T13:51:15.779066Z"
    },
    "papermill": {
     "duration": 0.069968,
     "end_time": "2022-01-18T14:03:57.970692",
     "exception": false,
     "start_time": "2022-01-18T14:03:57.900724",
     "status": "completed"
    },
    "tags": []
   },
   "outputs": [
    {
     "data": {
      "text/plain": [
       "0.8110028798022219"
      ]
     },
     "execution_count": 31,
     "metadata": {},
     "output_type": "execute_result"
    }
   ],
   "source": [
    "svr = SVR()\n",
    "svr.fit(X_train, y_train)\n",
    "svr.score(X_test, y_test)"
   ]
  },
  {
   "cell_type": "markdown",
   "id": "76d0d425",
   "metadata": {
    "papermill": {
     "duration": 0.059835,
     "end_time": "2022-01-18T14:03:58.090390",
     "exception": false,
     "start_time": "2022-01-18T14:03:58.030555",
     "status": "completed"
    },
    "tags": []
   },
   "source": [
    "## Decision Tree regression"
   ]
  },
  {
   "cell_type": "code",
   "execution_count": 32,
   "id": "25d2e545",
   "metadata": {
    "execution": {
     "iopub.execute_input": "2022-01-18T14:03:58.216518Z",
     "iopub.status.busy": "2022-01-18T14:03:58.215913Z",
     "iopub.status.idle": "2022-01-18T14:03:58.223638Z",
     "shell.execute_reply": "2022-01-18T14:03:58.224187Z",
     "shell.execute_reply.started": "2022-01-18T13:51:15.789012Z"
    },
    "papermill": {
     "duration": 0.072699,
     "end_time": "2022-01-18T14:03:58.224352",
     "exception": false,
     "start_time": "2022-01-18T14:03:58.151653",
     "status": "completed"
    },
    "tags": []
   },
   "outputs": [
    {
     "data": {
      "text/plain": [
       "0.8887218435032432"
      ]
     },
     "execution_count": 32,
     "metadata": {},
     "output_type": "execute_result"
    }
   ],
   "source": [
    "dt = DecisionTreeRegressor()\n",
    "dt.fit(X_train, y_train)\n",
    "dt.score(X_test, y_test)"
   ]
  },
  {
   "cell_type": "markdown",
   "id": "cbb35378",
   "metadata": {
    "papermill": {
     "duration": 0.059742,
     "end_time": "2022-01-18T14:03:58.344291",
     "exception": false,
     "start_time": "2022-01-18T14:03:58.284549",
     "status": "completed"
    },
    "tags": []
   },
   "source": [
    "## Random Forest regression"
   ]
  },
  {
   "cell_type": "code",
   "execution_count": 33,
   "id": "930078c1",
   "metadata": {
    "execution": {
     "iopub.execute_input": "2022-01-18T14:03:58.467108Z",
     "iopub.status.busy": "2022-01-18T14:03:58.466486Z",
     "iopub.status.idle": "2022-01-18T14:03:58.645537Z",
     "shell.execute_reply": "2022-01-18T14:03:58.646087Z",
     "shell.execute_reply.started": "2022-01-18T13:51:15.801543Z"
    },
    "papermill": {
     "duration": 0.242086,
     "end_time": "2022-01-18T14:03:58.646264",
     "exception": false,
     "start_time": "2022-01-18T14:03:58.404178",
     "status": "completed"
    },
    "tags": []
   },
   "outputs": [
    {
     "data": {
      "text/plain": [
       "0.9190482614915041"
      ]
     },
     "execution_count": 33,
     "metadata": {},
     "output_type": "execute_result"
    }
   ],
   "source": [
    "rf = RandomForestRegressor()\n",
    "rf.fit(X_train, y_train)\n",
    "rf.score(X_test, y_test)"
   ]
  },
  {
   "cell_type": "markdown",
   "id": "e31d06bc",
   "metadata": {
    "papermill": {
     "duration": 0.059657,
     "end_time": "2022-01-18T14:03:58.766440",
     "exception": false,
     "start_time": "2022-01-18T14:03:58.706783",
     "status": "completed"
    },
    "tags": []
   },
   "source": [
    "#### The best performing model is Multiple Linear Regression."
   ]
  },
  {
   "cell_type": "code",
   "execution_count": 34,
   "id": "874a12c7",
   "metadata": {
    "execution": {
     "iopub.execute_input": "2022-01-18T14:03:58.890140Z",
     "iopub.status.busy": "2022-01-18T14:03:58.889512Z",
     "iopub.status.idle": "2022-01-18T14:03:58.894519Z",
     "shell.execute_reply": "2022-01-18T14:03:58.895130Z",
     "shell.execute_reply.started": "2022-01-18T13:51:15.983925Z"
    },
    "papermill": {
     "duration": 0.068696,
     "end_time": "2022-01-18T14:03:58.895296",
     "exception": false,
     "start_time": "2022-01-18T14:03:58.826600",
     "status": "completed"
    },
    "tags": []
   },
   "outputs": [],
   "source": [
    "lr = LinearRegression()\n",
    "lr.fit(X_train, y_train)\n",
    "r2_score = lr.score(X_test, y_test)"
   ]
  },
  {
   "cell_type": "code",
   "execution_count": 35,
   "id": "7f1c17c5",
   "metadata": {
    "execution": {
     "iopub.execute_input": "2022-01-18T14:03:59.019762Z",
     "iopub.status.busy": "2022-01-18T14:03:59.019139Z",
     "iopub.status.idle": "2022-01-18T14:03:59.025306Z",
     "shell.execute_reply": "2022-01-18T14:03:59.025796Z",
     "shell.execute_reply.started": "2022-01-18T13:51:15.99192Z"
    },
    "papermill": {
     "duration": 0.070337,
     "end_time": "2022-01-18T14:03:59.025966",
     "exception": false,
     "start_time": "2022-01-18T14:03:58.955629",
     "status": "completed"
    },
    "tags": []
   },
   "outputs": [
    {
     "data": {
      "text/plain": [
       "0.9312631057213885"
      ]
     },
     "execution_count": 35,
     "metadata": {},
     "output_type": "execute_result"
    }
   ],
   "source": [
    "# Adjusted R-square of the model\n",
    "n = X_test.shape[0]\n",
    "p = X_test.shape[1]\n",
    "\n",
    "adjusted_r2 = 1-(1-r2_score)*(n-1)/(n-p-1)\n",
    "adjusted_r2"
   ]
  },
  {
   "cell_type": "markdown",
   "id": "3db81b4c",
   "metadata": {
    "papermill": {
     "duration": 0.06015,
     "end_time": "2022-01-18T14:03:59.147462",
     "exception": false,
     "start_time": "2022-01-18T14:03:59.087312",
     "status": "completed"
    },
    "tags": []
   },
   "source": [
    "# 5. Residuals analysis"
   ]
  },
  {
   "cell_type": "code",
   "execution_count": 36,
   "id": "6fb4f26d",
   "metadata": {
    "execution": {
     "iopub.execute_input": "2022-01-18T14:03:59.273916Z",
     "iopub.status.busy": "2022-01-18T14:03:59.273231Z",
     "iopub.status.idle": "2022-01-18T14:03:59.277311Z",
     "shell.execute_reply": "2022-01-18T14:03:59.277848Z",
     "shell.execute_reply.started": "2022-01-18T13:51:16.005799Z"
    },
    "papermill": {
     "duration": 0.068967,
     "end_time": "2022-01-18T14:03:59.278033",
     "exception": false,
     "start_time": "2022-01-18T14:03:59.209066",
     "status": "completed"
    },
    "tags": []
   },
   "outputs": [],
   "source": [
    "y_test_hat = lr.predict(X_test)"
   ]
  },
  {
   "cell_type": "code",
   "execution_count": 37,
   "id": "dbeaaca7",
   "metadata": {
    "execution": {
     "iopub.execute_input": "2022-01-18T14:03:59.405680Z",
     "iopub.status.busy": "2022-01-18T14:03:59.405026Z",
     "iopub.status.idle": "2022-01-18T14:03:59.631356Z",
     "shell.execute_reply": "2022-01-18T14:03:59.631921Z",
     "shell.execute_reply.started": "2022-01-18T13:51:16.015783Z"
    },
    "papermill": {
     "duration": 0.292005,
     "end_time": "2022-01-18T14:03:59.632121",
     "exception": false,
     "start_time": "2022-01-18T14:03:59.340116",
     "status": "completed"
    },
    "tags": []
   },
   "outputs": [
    {
     "data": {
      "image/png": "[encoded data removed]",
      "text/plain": [
       "<Figure size 432x288 with 1 Axes>"
      ]
     },
     "metadata": {},
     "output_type": "display_data"
    }
   ],
   "source": [
    "plt.scatter(x=y_test, y=y_test_hat, alpha=0.8)\n",
    "plt.plot(y_test, y_test, color='darkgreen')\n",
    "plt.show()"
   ]
  },
  {
   "cell_type": "code",
   "execution_count": 38,
   "id": "a8c51801",
   "metadata": {
    "execution": {
     "iopub.execute_input": "2022-01-18T14:03:59.760081Z",
     "iopub.status.busy": "2022-01-18T14:03:59.759416Z",
     "iopub.status.idle": "2022-01-18T14:03:59.762569Z",
     "shell.execute_reply": "2022-01-18T14:03:59.763168Z",
     "shell.execute_reply.started": "2022-01-18T13:51:16.227845Z"
    },
    "papermill": {
     "duration": 0.068404,
     "end_time": "2022-01-18T14:03:59.763340",
     "exception": false,
     "start_time": "2022-01-18T14:03:59.694936",
     "status": "completed"
    },
    "tags": []
   },
   "outputs": [],
   "source": [
    "residuals = y_test - y_test_hat"
   ]
  },
  {
   "cell_type": "markdown",
   "id": "54882dc9",
   "metadata": {
    "papermill": {
     "duration": 0.062267,
     "end_time": "2022-01-18T14:03:59.888773",
     "exception": false,
     "start_time": "2022-01-18T14:03:59.826506",
     "status": "completed"
    },
    "tags": []
   },
   "source": [
    "The errors should not follow any pattern and equally distributed."
   ]
  },
  {
   "cell_type": "code",
   "execution_count": 39,
   "id": "55462838",
   "metadata": {
    "execution": {
     "iopub.execute_input": "2022-01-18T14:04:00.016302Z",
     "iopub.status.busy": "2022-01-18T14:04:00.015651Z",
     "iopub.status.idle": "2022-01-18T14:04:00.264727Z",
     "shell.execute_reply": "2022-01-18T14:04:00.265256Z",
     "shell.execute_reply.started": "2022-01-18T13:51:16.233059Z"
    },
    "papermill": {
     "duration": 0.314511,
     "end_time": "2022-01-18T14:04:00.265428",
     "exception": false,
     "start_time": "2022-01-18T14:03:59.950917",
     "status": "completed"
    },
    "tags": []
   },
   "outputs": [
    {
     "data": {
      "image/png": "[encoded data removed]",
      "text/plain": [
       "<Figure size 432x288 with 1 Axes>"
      ]
     },
     "metadata": {},
     "output_type": "display_data"
    }
   ],
   "source": [
    "plt.scatter(y=residuals, x=y_test_hat, alpha=0.8)\n",
    "plt.show()"
   ]
  },
  {
   "cell_type": "code",
   "execution_count": 40,
   "id": "14b6cea8",
   "metadata": {
    "execution": {
     "iopub.execute_input": "2022-01-18T14:04:00.398344Z",
     "iopub.status.busy": "2022-01-18T14:04:00.395808Z",
     "iopub.status.idle": "2022-01-18T14:04:00.401405Z",
     "shell.execute_reply": "2022-01-18T14:04:00.401894Z",
     "shell.execute_reply.started": "2022-01-18T13:51:16.481563Z"
    },
    "papermill": {
     "duration": 0.073972,
     "end_time": "2022-01-18T14:04:00.402111",
     "exception": false,
     "start_time": "2022-01-18T14:04:00.328139",
     "status": "completed"
    },
    "tags": []
   },
   "outputs": [
    {
     "data": {
      "text/plain": [
       "array([ 0.96049786,  0.0109726 , -0.01004952, -0.06425628])"
      ]
     },
     "execution_count": 40,
     "metadata": {},
     "output_type": "execute_result"
    }
   ],
   "source": [
    "lr.coef_"
   ]
  },
  {
   "cell_type": "code",
   "execution_count": 41,
   "id": "e7a7c699",
   "metadata": {
    "execution": {
     "iopub.execute_input": "2022-01-18T14:04:00.533788Z",
     "iopub.status.busy": "2022-01-18T14:04:00.532848Z",
     "iopub.status.idle": "2022-01-18T14:04:00.536046Z",
     "shell.execute_reply": "2022-01-18T14:04:00.536614Z",
     "shell.execute_reply.started": "2022-01-18T13:51:16.488074Z"
    },
    "papermill": {
     "duration": 0.071259,
     "end_time": "2022-01-18T14:04:00.536795",
     "exception": false,
     "start_time": "2022-01-18T14:04:00.465536",
     "status": "completed"
    },
    "tags": []
   },
   "outputs": [
    {
     "data": {
      "text/plain": [
       "-3.7723824852866906e-16"
      ]
     },
     "execution_count": 41,
     "metadata": {},
     "output_type": "execute_result"
    }
   ],
   "source": [
    "lr.intercept_"
   ]
  },
  {
   "cell_type": "markdown",
   "id": "b1a2462e",
   "metadata": {
    "papermill": {
     "duration": 0.063248,
     "end_time": "2022-01-18T14:04:00.662815",
     "exception": false,
     "start_time": "2022-01-18T14:04:00.599567",
     "status": "completed"
    },
    "tags": []
   },
   "source": [
    "## Our preferred model now has an equation that looks like this:\n",
    "\n",
    "## $$ PROFIT = -3.77 + 0.96 * R&D Spend + 0.01 * Marketing Spend + (-0.01) * Florida + (-0.06) * NewYork $$"
   ]
  },
  {
   "cell_type": "markdown",
   "id": "122bbead",
   "metadata": {
    "papermill": {
     "duration": 0.062424,
     "end_time": "2022-01-18T14:04:00.788959",
     "exception": false,
     "start_time": "2022-01-18T14:04:00.726535",
     "status": "completed"
    },
    "tags": []
   },
   "source": [
    "Note: Since we scaled the data for modeling, if we want to predict profits, we have to perform inverse_transform() on the predicted values."
   ]
  }
 ],
 "metadata": {
  "kernelspec": {
   "display_name": "Python 3",
   "language": "python",
   "name": "python3"
  },
  "language_info": {
   "codemirror_mode": {
    "name": "ipython",
    "version": 3
   },
   "file_extension": ".py",
   "mimetype": "text/x-python",
   "name": "python",
   "nbconvert_exporter": "python",
   "pygments_lexer": "ipython3",
   "version": "3.10.9"
  },
  "papermill": {
   "default_parameters": {},
   "duration": 29.272113,
   "end_time": "2022-01-18T14:04:01.662754",
   "environment_variables": {},
   "exception": null,
   "input_path": "__notebook__.ipynb",
   "output_path": "__notebook__.ipynb",
   "parameters": {},
   "start_time": "2022-01-18T14:03:32.390641",
   "version": "2.3.3"
  }
 },
 "nbformat": 4,
 "nbformat_minor": 5
}
